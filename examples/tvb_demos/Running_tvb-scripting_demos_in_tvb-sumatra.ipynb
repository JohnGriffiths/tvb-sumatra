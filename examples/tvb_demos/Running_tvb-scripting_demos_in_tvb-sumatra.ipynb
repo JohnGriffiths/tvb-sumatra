{
 "metadata": {
  "celltoolbar": "ipython workdocs tags",
  "css": [
   ""
  ],
  "name": "",
  "signature": "sha256:6b21d1b63aefaf16561327aa125060bcdcd4fab73f221bc9c2e1ff46e43ea223"
 },
 "nbformat": 3,
 "nbformat_minor": 0,
 "worksheets": [
  {
   "cells": [
    {
     "cell_type": "heading",
     "level": 1,
     "metadata": {},
     "source": [
      "Running tvb-scripting demos with tvb-sumatra"
     ]
    },
    {
     "cell_type": "markdown",
     "metadata": {},
     "source": [
      "spiel here"
     ]
    },
    {
     "cell_type": "heading",
     "level": 2,
     "metadata": {},
     "source": [
      "Setup"
     ]
    },
    {
     "cell_type": "markdown",
     "metadata": {},
     "source": [
      "Importage"
     ]
    },
    {
     "cell_type": "code",
     "collapsed": false,
     "input": [
      "import os\n",
      "import shutil\n",
      "import sys"
     ],
     "language": "python",
     "metadata": {},
     "outputs": [],
     "prompt_number": 27
    },
    {
     "cell_type": "markdown",
     "metadata": {},
     "source": [
      "Set some parameters for this notebook example"
     ]
    },
    {
     "cell_type": "code",
     "collapsed": false,
     "input": [
      "replace_dir = True     # (?)\n",
      "launch_smtweb = True"
     ],
     "language": "python",
     "metadata": {},
     "outputs": [],
     "prompt_number": 28
    },
    {
     "cell_type": "markdown",
     "metadata": {},
     "source": [
      "File and folder names"
     ]
    },
    {
     "cell_type": "code",
     "collapsed": false,
     "input": [
      "start_dir = os.getcwd()\n",
      "start_dir"
     ],
     "language": "python",
     "metadata": {},
     "outputs": [
      {
       "metadata": {},
       "output_type": "pyout",
       "prompt_number": 29,
       "text": [
        "'/home/fsuser/Desktop/tvb_sumatra_examples'"
       ]
      }
     ],
     "prompt_number": 29
    },
    {
     "cell_type": "markdown",
     "metadata": {},
     "source": [
      "Specify the file path of the original main file"
     ]
    },
    {
     "cell_type": "code",
     "collapsed": false,
     "input": [
      "tvb_smt_dir = '/media/sf_SharedFolder/Code/git_repos_of_mine/tvb-sumatra/tvb_sumatra'\n",
      "main_filename = 'run_tvb_smt_sims_main.py'\n",
      "main_file = '%s/%s' %(tvb_smt_dir, main_filename)"
     ],
     "language": "python",
     "metadata": {},
     "outputs": [],
     "prompt_number": 30
    },
    {
     "cell_type": "markdown",
     "metadata": {},
     "source": [
      "Specify the file paths of the parameter files"
     ]
    },
    {
     "cell_type": "code",
     "collapsed": false,
     "input": [
      "tvb_scripting_dir = '/media/sf_SharedFolder/Code/git_repos_of_mine/tvb-scripting/examples/tvb_demos'\n",
      "param_filenames = ['params__region_deterministic_demo.param',\n",
      "                   'params__region_deterministic_smooth_parameter_variation_eq_demo.param',\n",
      "                   'params__region_deterministic_smooth_parameter_variation_noteq_demo.param',\n",
      "                   'params__region_stochastic_demo.param']\n",
      "param_files = ['%s/%s' %(tvb_scripting_dir, p) for p in param_filenames]"
     ],
     "language": "python",
     "metadata": {},
     "outputs": [],
     "prompt_number": 31
    },
    {
     "cell_type": "code",
     "collapsed": false,
     "input": [
      "\"\"\"\n",
      "main_filename = 'run_tvb_smt_sims_main.py'\n",
      "main_file = '%s/%s' %(code_dir, main_filename)\n",
      "\n",
      "params_filename_1 = 'region_deterministic_demo__params.param'\n",
      "params_filename_2 = 'region_deterministic_smooth_parameter_variation_eq_demo__params.param'\n",
      "params_filename_3 = 'region_deterministic_smooth_parameter_variation_noteq_demo__params.param'\n",
      "params_filename_4 = 'region_stochastic_demo__params.param'\n",
      "\n",
      "params_file_dir = '%s/examples' %code_dir\n",
      "\n",
      "params_file_1 = '%s/%s' %(params_file_dir, params_filename_1)\n",
      "params_file_2 = '%s/%s' %(params_file_dir, params_filename_2)\n",
      "params_file_3 = '%s/%s' %(params_file_dir, params_filename_3)\n",
      "params_file_4 = '%s/%s' %(params_file_dir, params_filename_4)\n",
      "\"\"\";"
     ],
     "language": "python",
     "metadata": {},
     "outputs": [],
     "prompt_number": 32
    },
    {
     "cell_type": "markdown",
     "metadata": {},
     "source": [
      "Make the test directory and go there"
     ]
    },
    {
     "cell_type": "code",
     "collapsed": false,
     "input": [
      "test_dir = '/home/fsuser/Desktop/tvb_sumatra_examples'\n",
      "if os.path.isdir(test_dir):\n",
      " if replace_dir: \n",
      "   os.system('rm -r %s' %test_dir)\n",
      " os.mkdir(test_dir)\n",
      "os.chdir(test_dir)\n",
      "os.getcwd()"
     ],
     "language": "python",
     "metadata": {
      "run_control": {
       "breakpoint": false
      }
     },
     "outputs": [
      {
       "metadata": {},
       "output_type": "pyout",
       "prompt_number": 33,
       "text": [
        "'/home/fsuser/Desktop/tvb_sumatra_examples'"
       ]
      }
     ],
     "prompt_number": 33
    },
    {
     "cell_type": "markdown",
     "metadata": {},
     "source": [
      "Load the main and params files, take a look, and write to the test directory"
     ]
    },
    {
     "cell_type": "code",
     "collapsed": false,
     "input": [
      "# %load $main_file\n",
      "# %%writefile $main_filename"
     ],
     "language": "python",
     "metadata": {
      "run_control": {
       "breakpoint": false
      }
     },
     "outputs": [],
     "prompt_number": 34
    },
    {
     "cell_type": "code",
     "collapsed": false,
     "input": [
      "%%writefile $main_filename\n",
      "\"\"\"\n",
      "=========================\n",
      "run_tvb_smt_sims_main.py\n",
      "=========================\n",
      "\n",
      "Wrapper for Sim class in Runner.py.\n",
      "\n",
      "\n",
      "Usage:\n",
      "-----\n",
      "\n",
      "python run_tvb_sims_main.py <parameter_file>\n",
      "\n",
      "\"\"\"\n",
      "import sys\n",
      "from sumatra.parameters import build_parameters\n",
      "from sumatra.decorators import capture\n",
      "\n",
      "sys.path.append('/media/sf_SharedFolder/Code/git_repos_of_mine/tvb-scripting')\n",
      "from tvb_scripting.Runner import Sim\n",
      "\n",
      "@capture\n",
      "def main(pset_smt):\n",
      "\n",
      " Ps = pset_smt.as_dict() \n",
      " S = Sim(Ps)\n",
      " S.run()\n",
      "\n",
      "# Read parameter file\n",
      "parameter_file = sys.argv[1]\n",
      "pset_smt  = build_parameters(parameter_file)\n",
      "\n",
      "# Run\n",
      "main(pset_smt)\n"
     ],
     "language": "python",
     "metadata": {},
     "outputs": [
      {
       "output_type": "stream",
       "stream": "stdout",
       "text": [
        "Writing run_tvb_smt_sims_main.py\n"
       ]
      }
     ],
     "prompt_number": 35
    },
    {
     "cell_type": "code",
     "collapsed": false,
     "input": [
      "params_file_1 = param_files[0]\n",
      "params_filename_1 = param_filenames[0]"
     ],
     "language": "python",
     "metadata": {},
     "outputs": [],
     "prompt_number": 23
    },
    {
     "cell_type": "markdown",
     "metadata": {},
     "source": [
      "Same with parameters file"
     ]
    },
    {
     "cell_type": "code",
     "collapsed": false,
     "input": [
      "#%load $params_file_1\n",
      "#%%writefile $params_filename_1"
     ],
     "language": "python",
     "metadata": {},
     "outputs": [],
     "prompt_number": 36
    },
    {
     "cell_type": "code",
     "collapsed": false,
     "input": [
      "%%writefile $params_filename_1\n",
      "{\n",
      " 'sim_params':                   {'length':  10,\n",
      "                                  'outdir': 'Data',\n",
      "                                  'outpfx': 'region_deterministic_demo',\n",
      "                                  'make_dataframe': True },\n",
      " 'model':                        {'type':   'Generic2dOscillator'  ,\n",
      "                                  'params': {}                          },\n",
      " 'coupling':                     {'type':   'Linear',\n",
      "                                  'params': {}                          },\n",
      " 'integrator':                   {'type':   'HeunDeterministic',\n",
      "                                  'params': {}                          },\n",
      " 'monitors':                     [{'type':   'Raw',\n",
      "                                   'params': {}                         },\n",
      "                                  {'type': 'TemporalAverage',\n",
      "                                   'params': {}                         } ],\n",
      " 'connectivity':                  {'type':   'Connectivity',\n",
      "                                   'params': {'speed' :  [3.0],\n",
      "                                              'load_default': True      }  },\n",
      " 'plots':                        [{'monitor': 'Raw',\n",
      "                                   'title': 'Raw -- State variable 0',\n",
      "                                   'plot_cmds': ['plt.plot(T,D[:,0,:,0])'],\n",
      "                                   'plot_fname': 'Raw_state_variable_0.png'},\n",
      "                                   {'monitor': 'Raw',\n",
      "                                   'title': 'Raw -- State variable 1',\n",
      "                                   'plot_cmds': ['plt.plot(T,D[:,1,:,0])'],\n",
      "                                   'plot_fname': 'Raw_state_variable_1.png'},\n",
      "                                   {'monitor': 'TemporalAverage',\n",
      "                                   'title': 'Temporal Average',\n",
      "                                   'plot_cmds': ['plt.plot(T,D[:,0,:,0])'],\n",
      "                                   'plot_fname': 'Temporal_average.png'}]\n",
      "}\n"
     ],
     "language": "python",
     "metadata": {},
     "outputs": [
      {
       "output_type": "stream",
       "stream": "stdout",
       "text": [
        "Writing params__region_deterministic_demo.param\n"
       ]
      }
     ],
     "prompt_number": 37
    },
    {
     "cell_type": "markdown",
     "metadata": {},
     "source": [
      "Initialize git repo "
     ]
    },
    {
     "cell_type": "code",
     "collapsed": false,
     "input": [
      "!git init"
     ],
     "language": "python",
     "metadata": {},
     "outputs": [
      {
       "output_type": "stream",
       "stream": "stdout",
       "text": [
        "Initialized empty Git repository in /home/fsuser/Desktop/tvb_sumatra_examples/.git/\r\n"
       ]
      }
     ],
     "prompt_number": 38
    },
    {
     "cell_type": "code",
     "collapsed": false,
     "input": [
      "!git add *\n",
      "!git commit -a -m\"added main file and first params file\""
     ],
     "language": "python",
     "metadata": {},
     "outputs": [
      {
       "output_type": "stream",
       "stream": "stdout",
       "text": [
        "[master (root-commit) ec118d9] added main file and first params file\r\n",
        " 2 files changed, 65 insertions(+)\r\n",
        " create mode 100644 params__region_deterministic_demo.param\r\n",
        " create mode 100644 run_tvb_smt_sims_main.py\r\n"
       ]
      }
     ],
     "prompt_number": 39
    },
    {
     "cell_type": "markdown",
     "metadata": {},
     "source": [
      "Initialize sumatra project"
     ]
    },
    {
     "cell_type": "code",
     "collapsed": false,
     "input": [
      "!smt init tvb_sumatra_test"
     ],
     "language": "python",
     "metadata": {},
     "outputs": [
      {
       "output_type": "stream",
       "stream": "stdout",
       "text": [
        "Sumatra project successfully set up\r\n"
       ]
      }
     ],
     "prompt_number": 40
    },
    {
     "cell_type": "heading",
     "level": 2,
     "metadata": {},
     "source": [
      "Run sims"
     ]
    },
    {
     "cell_type": "code",
     "collapsed": false,
     "input": [
      "!python $main_filename $params_filename_1"
     ],
     "language": "python",
     "metadata": {
      "run_control": {
       "breakpoint": false
      }
     },
     "outputs": [],
     "prompt_number": 42
    },
    {
     "cell_type": "markdown",
     "metadata": {},
     "source": [
      "The output files are in the 'Data' folder"
     ]
    },
    {
     "cell_type": "code",
     "collapsed": false,
     "input": [
      "ls Data/"
     ],
     "language": "python",
     "metadata": {
      "run_control": {
       "breakpoint": false
      }
     },
     "outputs": [
      {
       "output_type": "stream",
       "stream": "stdout",
       "text": [
        "region_deterministic_demo__dat.pkl\r\n",
        "region_deterministic_demo__df_TemporalAverage.pkl\r\n",
        "\u001b[0m\u001b[01;35mregion_deterministic_demo__Raw_state_variable_0.png\u001b[0m\r\n",
        "\u001b[01;35mregion_deterministic_demo__Raw_state_variable_1.png\u001b[0m\r\n",
        "\u001b[01;35mregion_deterministic_demo__Temporal_average.png\u001b[0m\r\n"
       ]
      }
     ],
     "prompt_number": 46
    },
    {
     "cell_type": "markdown",
     "metadata": {},
     "source": [
      "Review in the Sumatra web interface\n",
      "\n",
      "(add some screenshots)"
     ]
    },
    {
     "cell_type": "code",
     "collapsed": false,
     "input": [
      "if launch_smtweb: \n",
      " !smtweb"
     ],
     "language": "python",
     "metadata": {
      "run_control": {
       "breakpoint": false
      }
     },
     "outputs": [
      {
       "output_type": "stream",
       "stream": "stdout",
       "text": [
        "Validating models...\r\n",
        "\r\n",
        "0 errors found\r\n",
        "July 01, 2014 - 08:57:38\r\n",
        "Django version 1.6.5, using settings None\r\n",
        "Starting development server at http://127.0.0.1:8000/\r\n",
        "Quit the server with CONTROL-C.\r\n"
       ]
      },
      {
       "output_type": "stream",
       "stream": "stdout",
       "text": [
        "\u001b[m[01/Jul/2014 08:57:42] \"GET / HTTP/1.1\" 200 3921\r\n",
        "\u001b[0m"
       ]
      },
      {
       "output_type": "stream",
       "stream": "stdout",
       "text": [
        "\u001b[m[01/Jul/2014 08:57:42] \"GET /media/css/codemirror.css HTTP/1.1\" 200 3807\r\n",
        "\u001b[0m\u001b[m[01/Jul/2014 08:57:42] \"GET /media/css/jquery-ui-1.8.20.custom.css HTTP/1.1\" 200 22521\r\n",
        "\u001b[0m\u001b[m[01/Jul/2014 08:57:42] \"GET /media/css/ambiance.css HTTP/1.1\" 200 2429\r\n",
        "\u001b[0m"
       ]
      },
      {
       "output_type": "stream",
       "stream": "stdout",
       "text": [
        "\u001b[m[01/Jul/2014 08:57:42] \"GET /media/js/jquery-1.7.2.min.js HTTP/1.1\" 200 94839\r\n",
        "\u001b[0m\u001b[m[01/Jul/2014 08:57:42] \"GET /media/js/jquery.ui.core.min.js HTTP/1.1\" 200 4295\r\n",
        "\u001b[0m\u001b[m[01/Jul/2014 08:57:42] \"GET /media/js/jquery.ui.position.js HTTP/1.1\" 200 7596\r\n",
        "\u001b[0m\u001b[m[01/Jul/2014 08:57:42] \"GET /media/css/styles.css HTTP/1.1\" 200 25879"
       ]
      },
      {
       "output_type": "stream",
       "stream": "stdout",
       "text": [
        "\r\n",
        "\u001b[0m\u001b[m[01/Jul/2014 08:57:42] \"GET /media/js/jquery.ui.widget.min.js HTTP/1.1\" 200 3189\r\n",
        "\u001b[0m\u001b[m[01/Jul/2014 08:57:42] \"GET /media/js/jquery.ui.mouse.min.js HTTP/1.1\" 200 2803\r\n",
        "\u001b[0m\u001b[m[01/Jul/2014 08:57:42] \"GET /media/js/jquery.ui.resizable.min.js HTTP/1.1\" 200 17462\r\n",
        "\u001b[0m"
       ]
      },
      {
       "output_type": "stream",
       "stream": "stdout",
       "text": [
        "\u001b[m[01/Jul/2014 08:57:42] \"GET /media/js/jquery.ui.selectable.js HTTP/1.1\" 200 6958\r\n",
        "\u001b[0m\u001b[m[01/Jul/2014 08:57:42] \"GET /media/js/jquery-ui-datepicker.min.js HTTP/1.1\" 200 41396\r\n",
        "\u001b[0m\u001b[m[01/Jul/2014 08:57:42] \"GET /media/js/jquery-ui-1.8.20.highlight.min.js HTTP/1.1\" 200 11419\r\n",
        "\u001b[0m"
       ]
      },
      {
       "output_type": "stream",
       "stream": "stdout",
       "text": [
        "\u001b[m[01/Jul/2014 08:57:42] \"GET /media/js/jquery.ui.draggable.js HTTP/1.1\" 200 31120\r\n",
        "\u001b[0m\u001b[m[01/Jul/2014 08:57:42] \"GET /media/js/jquery.jgrowl.min.js HTTP/1.1\" 200 5372"
       ]
      },
      {
       "output_type": "stream",
       "stream": "stdout",
       "text": [
        "\r\n",
        "\u001b[0m\u001b[m[01/Jul/2014 08:57:42] \"GET /media/js/python.js HTTP/1.1\" 200 12481\r\n",
        "\u001b[0m\u001b[m[01/Jul/2014 08:57:42] \"GET /media/js/bootstrap-dropdown.js HTTP/1.1\" 200 2558\r\n",
        "\u001b[0m\u001b[m[01/Jul/2014 08:57:42] \"GET /media/js/bootstrap-modal.min.js HTTP/1.1\" 200 2759\r\n",
        "\u001b[0m\u001b[m[01/Jul/2014 08:57:42] \"GET /media/js/bootstrap-tab.min.js HTTP/1.1\" 200 1236"
       ]
      },
      {
       "output_type": "stream",
       "stream": "stdout",
       "text": [
        "\r\n",
        "\u001b[0m\u001b[m[01/Jul/2014 08:57:42] \"GET /media/js/bootstrap-tooltip.min.js HTTP/1.1\" 200 3800\r\n",
        "\u001b[0m\u001b[m[01/Jul/2014 08:57:42] \"GET /media/js/chosen.jquery.min.js HTTP/1.1\" 200 21610\r\n",
        "\u001b[0m"
       ]
      },
      {
       "output_type": "stream",
       "stream": "stdout",
       "text": [
        "\u001b[m[01/Jul/2014 08:57:42] \"GET /media/js/sumatra.paginator.js HTTP/1.1\" 200 1031\r\n",
        "\u001b[0m\u001b[m[01/Jul/2014 08:57:42] \"GET /media/js/jquery.listsorter.js HTTP/1.1\" 200 16557\r\n",
        "\u001b[0m"
       ]
      },
      {
       "output_type": "stream",
       "stream": "stdout",
       "text": [
        "\u001b[m[01/Jul/2014 08:57:42] \"GET /media/js/sumatra.search.js HTTP/1.1\" 200 4013\r\n",
        "\u001b[0m\u001b[m[01/Jul/2014 08:57:42] \"GET /media/js/sumatra.table.js HTTP/1.1\" 200 2932\r\n",
        "\u001b[0m"
       ]
      },
      {
       "output_type": "stream",
       "stream": "stdout",
       "text": [
        "\u001b[m[01/Jul/2014 08:57:42] \"GET /media/js/jquery.scroll.js HTTP/1.1\" 200 568\r\n",
        "\u001b[0m\u001b[m[01/Jul/2014 08:57:42] \"GET /media/js/codemirror.js HTTP/1.1\" 200 131678\r\n",
        "\u001b[0m\u001b[m[01/Jul/2014 08:57:42] \"GET /media/css/bootstrap.css HTTP/1.1\" 200 143789\r\n",
        "\u001b[0m\u001b[m[01/Jul/2014 08:57:42] \"GET /media/js/sumatra.animatebar.js HTTP/1.1\" 200 493\r\n",
        "\u001b[0m\u001b[m[01/Jul/2014 08:57:42] \"GET /media/js/tooltip-table.js HTTP/1.1\" 200 312\r\n",
        "\u001b[0m"
       ]
      },
      {
       "output_type": "stream",
       "stream": "stdout",
       "text": [
        "\u001b[m[01/Jul/2014 08:57:43] \"GET /media/extras/fontawesome/font/fontawesome-webfont.woff HTTP/1.1\" 200 23416\r\n",
        "\u001b[0m"
       ]
      },
      {
       "output_type": "stream",
       "stream": "stdout",
       "text": [
        "\u001b[m[01/Jul/2014 08:57:46] \"GET /tvb_sumatra_test/ HTTP/1.1\" 200 38436\r\n",
        "\u001b[0m"
       ]
      },
      {
       "output_type": "stream",
       "stream": "stdout",
       "text": [
        "\u001b[m[01/Jul/2014 08:57:46] \"GET /media/js/sumatra.ajax.js HTTP/1.1\" 200 6094\r\n",
        "\u001b[0m"
       ]
      },
      {
       "output_type": "stream",
       "stream": "stdout",
       "text": [
        "\u001b[m[01/Jul/2014 08:57:47] \"GET /media/img/light_toast.png HTTP/1.1\" 200 21906\r\n",
        "\u001b[0m\u001b[m[01/Jul/2014 08:57:47] \"GET /media/img/white_pixel.png HTTP/1.1\" 200 118\r\n",
        "\u001b[0m\u001b[m[01/Jul/2014 08:57:47] \"GET /media/img/chosen-sprite.png HTTP/1.1\" 200 559\r\n",
        "\u001b[0m"
       ]
      },
      {
       "output_type": "stream",
       "stream": "stdout",
       "text": [
        "\u001b[m[01/Jul/2014 08:57:50] \"GET /tvb_sumatra_test/20140701-085613/ HTTP/1.1\" 200 15943\r\n",
        "\u001b[0m"
       ]
      },
      {
       "output_type": "stream",
       "stream": "stdout",
       "text": [
        "\u001b[m[01/Jul/2014 08:57:59] \"GET /tvb_sumatra_test/20140701-085613/datafile?path=region_deterministic_demo__Raw_state_variable_0.png&digest=7743dd80dbcd634ecac2c1617c5fc0b30e28795d HTTP/1.1\" 200 4357\r\n",
        "\u001b[0m"
       ]
      },
      {
       "output_type": "stream",
       "stream": "stdout",
       "text": [
        "\u001b[m[01/Jul/2014 08:57:59] \"GET /tvb_sumatra_test/20140701-085613/image?path=region_deterministic_demo__Raw_state_variable_0.png&digest=7743dd80dbcd634ecac2c1617c5fc0b30e28795d&type=output HTTP/1.1\" 200 261375\r\n",
        "\u001b[0m"
       ]
      }
     ]
    },
    {
     "cell_type": "markdown",
     "metadata": {
      "cell_tags": {
       "rough_notes": true
      }
     },
     "source": [
      "Review with pandas\n",
      "\n",
      "(to add)"
     ]
    },
    {
     "cell_type": "markdown",
     "metadata": {},
     "source": [
      "Done for now. Go back to start dir"
     ]
    },
    {
     "cell_type": "code",
     "collapsed": false,
     "input": [
      "os.chdir(start_dir)"
     ],
     "language": "python",
     "metadata": {},
     "outputs": [],
     "prompt_number": 38
    },
    {
     "cell_type": "markdown",
     "metadata": {},
     "source": [
      "Note - Any changes to the sim code need to be committed before it will allow you to run any more sims"
     ]
    },
    {
     "cell_type": "heading",
     "level": 2,
     "metadata": {},
     "source": [
      "Graveyard"
     ]
    },
    {
     "cell_type": "code",
     "collapsed": false,
     "input": [
      "\"\"\"\n",
      "Setup sumatra folder\n",
      "====================\n",
      "\n",
      "TO DO: \n",
      "\n",
      "\n",
      "- Make into a notebook\n",
      "\n",
      "- Return to main dir\n",
      "\n",
      "- Print messages saying what's going on\n",
      "\n",
      "\n",
      "\n",
      "\n",
      "\"\"\""
     ],
     "language": "python",
     "metadata": {},
     "outputs": []
    },
    {
     "cell_type": "raw",
     "metadata": {},
     "source": [
      "%load run_tvb_sumatra_test.py"
     ]
    },
    {
     "cell_type": "raw",
     "metadata": {},
     "source": [
      "\n",
      "\"\"\"\n",
      "Setup sumatra folder\n",
      "====================\n",
      "\n",
      "TO DO: \n",
      "\n",
      "\n",
      "- Make into a notebook\n",
      "\n",
      "- Return to main dir\n",
      "\n",
      "- Print messages saying what's going on\n",
      "\n",
      "\n",
      "\n",
      "\n",
      "\"\"\"\n",
      "\n",
      "import os\n",
      "\n",
      "replace_dir = True\n",
      "run_tvb = True\n",
      "launch_smtweb = True\n",
      "\n",
      "\n",
      "start_dir = os.getcwd()\n",
      "\n",
      "code_dir = '/media/sf_WINDOWS_D_DRIVE/Neurodebian/code/git_repos/TheVirtualBrain/tvb-pack/library/contrib/simulator/tools/tvb_sumatra'\n",
      "\n",
      "new_dir = '/tmp/tvb_sumatra_test_new7'\n",
      "\n",
      "params_files = ['%s/test/%s' %(code_dir,p) for p in ['region_deterministic_demo__params.param',\n",
      "                                        'region_deterministic_smooth_parameter_variation_eq_demo__params.param',\n",
      "                                        'region_deterministic_smooth_parameter_variation_noteq_demo__params.param',\n",
      "                                        'region_stochastic_demo__params.param'  ]  ]\n",
      "\n",
      "main_file = '%s/tvb_main.py' %code_dir\n",
      "class_file = '%s/run_tvb_sim_test_class.py' %code_dir\n",
      "\n",
      "\n",
      "if os.path.isdir(new_dir):\n",
      " os.system('rm -r %s' %new_dir)\n",
      "\n",
      "os.system('mkdir %s' %new_dir)\n",
      "\n",
      "for mp in [main_file, class_file]:\n",
      " os.system('cp %s/%s %s/' %(code_dir, new_dir))\n",
      "\n",
      "for p in params_files:\n",
      " os.system('cp %s/%s %s/' %(start_dir,mp, new_dir) )\n",
      "\n",
      "os.chdir(new_dir)\n",
      "\n",
      "os.system('git init')\n",
      "os.system('git add *')\n",
      "os.system('git commit -a -m\"smt test repo init\" ')\n",
      "\n",
      "\n",
      "os.system('smt init tvb_sumatra_test')\n",
      "\n",
      "for p in params_files:\n",
      "  os.system('python %s %s' %(main_file.split('/')[1], p.split('/')[1]))\n",
      "\n",
      "\n",
      "if launch_smtweb: \n",
      "  os.system('smtweb')\n",
      "\n",
      "os.chdir(start_dir)\n",
      "\n",
      "\n",
      "\n",
      "\n"
     ]
    },
    {
     "cell_type": "code",
     "collapsed": false,
     "input": [],
     "language": "python",
     "metadata": {},
     "outputs": []
    }
   ],
   "metadata": {}
  }
 ]
}